{
 "cells": [
  {
   "cell_type": "code",
   "execution_count": 2,
   "metadata": {},
   "outputs": [
    {
     "name": "stderr",
     "output_type": "stream",
     "text": [
      "[nltk_data] Downloading package stopwords to\n",
      "[nltk_data]     /Users/mrudulareddy/nltk_data...\n",
      "[nltk_data]   Package stopwords is already up-to-date!\n"
     ]
    },
    {
     "data": {
      "text/html": [
       "<div>\n",
       "<style scoped>\n",
       "    .dataframe tbody tr th:only-of-type {\n",
       "        vertical-align: middle;\n",
       "    }\n",
       "\n",
       "    .dataframe tbody tr th {\n",
       "        vertical-align: top;\n",
       "    }\n",
       "\n",
       "    .dataframe thead th {\n",
       "        text-align: right;\n",
       "    }\n",
       "</style>\n",
       "<table border=\"1\" class=\"dataframe\">\n",
       "  <thead>\n",
       "    <tr style=\"text-align: right;\">\n",
       "      <th></th>\n",
       "      <th>id</th>\n",
       "      <th>NARRATIVE</th>\n",
       "      <th>CRIMETYPE</th>\n",
       "      <th>clean_text</th>\n",
       "    </tr>\n",
       "  </thead>\n",
       "  <tbody>\n",
       "    <tr>\n",
       "      <th>0</th>\n",
       "      <td>170243</td>\n",
       "      <td>UNK SUSP ENT VICT'S VEH THROUGH UNLOCKED DOOR &amp; REMOVED VICT'S PROP  AMPLIFIER</td>\n",
       "      <td>0</td>\n",
       "      <td>[unk, susp, ent, victs, veh, unlocked, door, removed, victs, prop, amplifier]</td>\n",
       "    </tr>\n",
       "    <tr>\n",
       "      <th>1</th>\n",
       "      <td>176597</td>\n",
       "      <td>UNK SUSP OPENED SIDE WINDOW TO GAIN ENTRY SUSP REMOVED PROP AND FLED  TO UNK LOCATION</td>\n",
       "      <td>1</td>\n",
       "      <td>[, unk, susp, opened, side, window, gain, entry, susp, removed, prop, fled, unk, location]</td>\n",
       "    </tr>\n",
       "    <tr>\n",
       "      <th>2</th>\n",
       "      <td>40020</td>\n",
       "      <td>nan</td>\n",
       "      <td>0</td>\n",
       "      <td>[nan]</td>\n",
       "    </tr>\n",
       "    <tr>\n",
       "      <th>3</th>\n",
       "      <td>63463</td>\n",
       "      <td>SUSP ADMITTED THAT HE HAS BEEN PLANNING TO GET BACK AT VICT ASKED HIS FRIEND TO ENTER VICT RES T...</td>\n",
       "      <td>1</td>\n",
       "      <td>[susp, admitted, planning, get, back, vict, asked, friend, enter, vict, res, use, restrm, inside...</td>\n",
       "    </tr>\n",
       "    <tr>\n",
       "      <th>4</th>\n",
       "      <td>194886</td>\n",
       "      <td>UNK S POSSIBLY ENTERED V APARTMENT NO PROPERTY TAKEN</td>\n",
       "      <td>1</td>\n",
       "      <td>[unk, possibly, entered, v, apartment, property, taken]</td>\n",
       "    </tr>\n",
       "  </tbody>\n",
       "</table>\n",
       "</div>"
      ],
      "text/plain": [
       "       id  \\\n",
       "0  170243   \n",
       "1  176597   \n",
       "2   40020   \n",
       "3   63463   \n",
       "4  194886   \n",
       "\n",
       "                                                                                             NARRATIVE  \\\n",
       "0                       UNK SUSP ENT VICT'S VEH THROUGH UNLOCKED DOOR & REMOVED VICT'S PROP  AMPLIFIER   \n",
       "1                UNK SUSP OPENED SIDE WINDOW TO GAIN ENTRY SUSP REMOVED PROP AND FLED  TO UNK LOCATION   \n",
       "2                                                                                                  nan   \n",
       "3  SUSP ADMITTED THAT HE HAS BEEN PLANNING TO GET BACK AT VICT ASKED HIS FRIEND TO ENTER VICT RES T...   \n",
       "4                                                 UNK S POSSIBLY ENTERED V APARTMENT NO PROPERTY TAKEN   \n",
       "\n",
       "   CRIMETYPE  \\\n",
       "0          0   \n",
       "1          1   \n",
       "2          0   \n",
       "3          1   \n",
       "4          1   \n",
       "\n",
       "                                                                                            clean_text  \n",
       "0                        [unk, susp, ent, victs, veh, unlocked, door, removed, victs, prop, amplifier]  \n",
       "1           [, unk, susp, opened, side, window, gain, entry, susp, removed, prop, fled, unk, location]  \n",
       "2                                                                                                [nan]  \n",
       "3  [susp, admitted, planning, get, back, vict, asked, friend, enter, vict, res, use, restrm, inside...  \n",
       "4                                              [unk, possibly, entered, v, apartment, property, taken]  "
      ]
     },
     "execution_count": 2,
     "metadata": {},
     "output_type": "execute_result"
    }
   ],
   "source": [
    "# Read in and clean data\n",
    "import nltk\n",
    "nltk.download('stopwords')\n",
    "import numpy as np\n",
    "import pandas as pd\n",
    "pd.set_option('display.max_colwidth', 100)\n",
    "import re\n",
    "from sklearn.model_selection import train_test_split\n",
    "import string\n",
    "\n",
    "stopwords = nltk.corpus.stopwords.words('english')\n",
    "\n",
    "messages = pd.read_csv('train 2.csv', encoding='latin-1', usecols= ['id', 'NARRATIVE', 'CRIMETYPE'])\n",
    "messages = pd.read_csv('train 2.csv', encoding='latin-1', usecols= ['id', 'NARRATIVE', 'CRIMETYPE'])\n",
    "# Dataset is now stored in a Pandas Dataframe\n",
    "messages.NARRATIVE=messages.NARRATIVE.astype(str)\n",
    "messages.CRIMETYPE=messages.CRIMETYPE.astype(str)\n",
    "messages.id=messages.id.astype(int)\n",
    "messages['CRIMETYPE'] = np.where(messages['CRIMETYPE']=='BURG', 1, 0)\n",
    "\n",
    "import string\n",
    "string.punctuation\n",
    "import re\n",
    "\n",
    "\n",
    "# clean_text function removes the punctuations, tokenizes and removes stopwords\n",
    "def clean_text(text):\n",
    "    text = \"\".join([word.lower() for word in text if word not in string.punctuation])\n",
    "    tokens = re.split('\\W+', text)\n",
    "    text = [word for word in tokens if word not in stopwords]\n",
    "    return text\n",
    "\n",
    "messages['clean_text'] = messages['NARRATIVE'].apply(lambda x: clean_text(x))\n",
    "messages.head()"
   ]
  },
  {
   "cell_type": "code",
   "execution_count": 3,
   "metadata": {},
   "outputs": [],
   "source": [
    "#tf-idf vector is applied\n",
    "from sklearn.feature_extraction.text import TfidfVectorizer\n",
    "tfidf_vect=TfidfVectorizer(analyzer= clean_text)\n",
    "d_train_vect= tfidf_vect.fit_transform(messages['NARRATIVE'])\n"
   ]
  },
  {
   "cell_type": "code",
   "execution_count": 4,
   "metadata": {},
   "outputs": [],
   "source": [
    "X_features= pd.DataFrame(d_train_vect.toarray())"
   ]
  },
  {
   "cell_type": "code",
   "execution_count": 6,
   "metadata": {},
   "outputs": [
    {
     "data": {
      "text/html": [
       "<div>\n",
       "<style scoped>\n",
       "    .dataframe tbody tr th:only-of-type {\n",
       "        vertical-align: middle;\n",
       "    }\n",
       "\n",
       "    .dataframe tbody tr th {\n",
       "        vertical-align: top;\n",
       "    }\n",
       "\n",
       "    .dataframe thead th {\n",
       "        text-align: right;\n",
       "    }\n",
       "</style>\n",
       "<table border=\"1\" class=\"dataframe\">\n",
       "  <thead>\n",
       "    <tr style=\"text-align: right;\">\n",
       "      <th></th>\n",
       "      <th>id</th>\n",
       "      <th>NARRATIVE</th>\n",
       "      <th>clean_text</th>\n",
       "    </tr>\n",
       "  </thead>\n",
       "  <tbody>\n",
       "    <tr>\n",
       "      <th>0</th>\n",
       "      <td>185004</td>\n",
       "      <td>UNK SUSP SMASHED VIC FRONT DRIVER DOOR TO GAIN ENTRY TO VIC VEH SUSP   REMOVED VIC PROP AND FLED...</td>\n",
       "      <td>[unk, susp, smashed, vic, front, driver, door, gain, entry, vic, veh, susp, removed, vic, prop, ...</td>\n",
       "    </tr>\n",
       "    <tr>\n",
       "      <th>1</th>\n",
       "      <td>137809</td>\n",
       "      <td>UNK SUSPS USED AN UNK OBJECT TO PRY AND ATTEMPT TO GAIN ENTRY TO VICTS BUSINESS CAUSING DAMAGE</td>\n",
       "      <td>[unk, susps, used, unk, object, pry, attempt, gain, entry, victs, business, causing, damage]</td>\n",
       "    </tr>\n",
       "    <tr>\n",
       "      <th>2</th>\n",
       "      <td>159499</td>\n",
       "      <td>nan</td>\n",
       "      <td>[nan]</td>\n",
       "    </tr>\n",
       "    <tr>\n",
       "      <th>3</th>\n",
       "      <td>19314</td>\n",
       "      <td>UNK SUSP SMASHED VICTS VEH WINDOW ENTERED VEH REMOVED PROP AND FLED IN AN UNK DIRECTION</td>\n",
       "      <td>[unk, susp, smashed, victs, veh, window, entered, veh, removed, prop, fled, unk, direction]</td>\n",
       "    </tr>\n",
       "    <tr>\n",
       "      <th>4</th>\n",
       "      <td>6934</td>\n",
       "      <td>UNK SUSP CUT VIC DOOR SCREW WITH UNK SHARP OBJECT UNK SUSO OUSH OPEN   REAR DOOR WINDOW WITH BOD...</td>\n",
       "      <td>[unk, susp, cut, vic, door, screw, unk, sharp, object, unk, suso, oush, open, rear, door, window...</td>\n",
       "    </tr>\n",
       "  </tbody>\n",
       "</table>\n",
       "</div>"
      ],
      "text/plain": [
       "       id  \\\n",
       "0  185004   \n",
       "1  137809   \n",
       "2  159499   \n",
       "3   19314   \n",
       "4    6934   \n",
       "\n",
       "                                                                                             NARRATIVE  \\\n",
       "0  UNK SUSP SMASHED VIC FRONT DRIVER DOOR TO GAIN ENTRY TO VIC VEH SUSP   REMOVED VIC PROP AND FLED...   \n",
       "1       UNK SUSPS USED AN UNK OBJECT TO PRY AND ATTEMPT TO GAIN ENTRY TO VICTS BUSINESS CAUSING DAMAGE   \n",
       "2                                                                                                  nan   \n",
       "3              UNK SUSP SMASHED VICTS VEH WINDOW ENTERED VEH REMOVED PROP AND FLED IN AN UNK DIRECTION   \n",
       "4  UNK SUSP CUT VIC DOOR SCREW WITH UNK SHARP OBJECT UNK SUSO OUSH OPEN   REAR DOOR WINDOW WITH BOD...   \n",
       "\n",
       "                                                                                            clean_text  \n",
       "0  [unk, susp, smashed, vic, front, driver, door, gain, entry, vic, veh, susp, removed, vic, prop, ...  \n",
       "1         [unk, susps, used, unk, object, pry, attempt, gain, entry, victs, business, causing, damage]  \n",
       "2                                                                                                [nan]  \n",
       "3          [unk, susp, smashed, victs, veh, window, entered, veh, removed, prop, fled, unk, direction]  \n",
       "4  [unk, susp, cut, vic, door, screw, unk, sharp, object, unk, suso, oush, open, rear, door, window...  "
      ]
     },
     "execution_count": 6,
     "metadata": {},
     "output_type": "execute_result"
    }
   ],
   "source": [
    "#loading test data and performing cleaning on it using clean_text function\n",
    "testdata = pd.read_csv('test 3.csv', encoding='latin-1', usecols= ['id', 'NARRATIVE'])\n",
    "testdata.NARRATIVE=testdata.NARRATIVE.astype(str)\n",
    "\n",
    "testdata.id=testdata.id.astype(int)\n",
    "\n",
    "\n",
    "\n",
    "def clean_text(text):\n",
    "    text = \"\".join([word.lower() for word in text if word not in string.punctuation])\n",
    "    tokens = re.split('\\W+', text)\n",
    "    text = [word for word in tokens if word not in stopwords]\n",
    "    return text\n",
    "testdata['clean_text'] = testdata['NARRATIVE'].apply(lambda x: clean_text(x))\n",
    "testdata.head()\n"
   ]
  },
  {
   "cell_type": "code",
   "execution_count": 7,
   "metadata": {},
   "outputs": [],
   "source": [
    "X_test_vect = tfidf_vect.transform(testdata['NARRATIVE'])"
   ]
  },
  {
   "cell_type": "code",
   "execution_count": 8,
   "metadata": {},
   "outputs": [],
   "source": [
    "from sklearn.metrics import precision_score, recall_score\n",
    "from sklearn.model_selection import train_test_split"
   ]
  },
  {
   "cell_type": "code",
   "execution_count": 9,
   "metadata": {},
   "outputs": [],
   "source": [
    "X_train, X_test, y_train, y_test = train_test_split(X_features,\n",
    "                                                    messages['CRIMETYPE'], test_size=0.1)"
   ]
  },
  {
   "cell_type": "code",
   "execution_count": null,
   "metadata": {},
   "outputs": [],
   "source": []
  },
  {
   "cell_type": "code",
   "execution_count": null,
   "metadata": {},
   "outputs": [],
   "source": [
    "X_train.to_csv('/Users/mrudulareddy/Desktop/submissionR/X_train.csv', index=False, header=True)\n",
    "X_test.to_csv('/Users/mrudulareddy/Desktop/submissionR/X_test.csv', index=False, header=True)\n",
    "y_train.to_csv('/Users/mrudulareddy/Desktop/submissionR/y_train.csv', index=False, header=True)\n",
    "y_test.to_csv('/Users/mrudulareddy/Desktop/submissionR/y_test.csv', index=False, header=True)"
   ]
  },
  {
   "cell_type": "code",
   "execution_count": null,
   "metadata": {},
   "outputs": [],
   "source": [
    "X_train = pd.read_csv('/Users/mrudulareddy/Desktop/submissionR/X_train.csv')\n",
    "X_test = pd.read_csv('/Users/mrudulareddy/Desktop/submissionR/X_test.csv')\n",
    "y_train = pd.read_csv('/Users/mrudulareddy/Desktop/submissionR/y_train.csv')\n",
    "y_test = pd.read_csv('/Users/mrudulareddy/Desktop/submissionR/y_test.csv')"
   ]
  },
  {
   "cell_type": "code",
   "execution_count": null,
   "metadata": {},
   "outputs": [],
   "source": [
    "tfidf_vect = TfidfVectorizer()\n",
    "\n",
    "X_train_vect = tfidf_vect.fit(X_train['NARRATIVE'])\n",
    "X_test_vect = tfidf_vect.transform(X_test['NARRATIVE'])\n",
    "X_test_vect = tfidf_vect.transform(testd['NARRATIVE'])\n",
    "X_test_vect[0].toarray()"
   ]
  }
 ],
 "metadata": {
  "kernelspec": {
   "display_name": "Python 3",
   "language": "python",
   "name": "python3"
  },
  "language_info": {
   "codemirror_mode": {
    "name": "ipython",
    "version": 3
   },
   "file_extension": ".py",
   "mimetype": "text/x-python",
   "name": "python",
   "nbconvert_exporter": "python",
   "pygments_lexer": "ipython3",
   "version": "3.8.5"
  }
 },
 "nbformat": 4,
 "nbformat_minor": 4
}
