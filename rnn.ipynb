{
 "cells": [
  {
   "cell_type": "markdown",
   "metadata": {},
   "source": [
    "# Compare NLP Techniques: Build A Basic RNN"
   ]
  },
  {
   "cell_type": "markdown",
   "metadata": {},
   "source": [
    "### Read In Cleaned Text"
   ]
  },
  {
   "cell_type": "code",
   "execution_count": 80,
   "metadata": {},
   "outputs": [],
   "source": [
    "# Load the cleaned training and test sets\n",
    "from keras.preprocessing.text import Tokenizer\n",
    "from keras.preprocessing.sequence import pad_sequences\n",
    "import pandas as pd"
   ]
  },
  {
   "cell_type": "markdown",
   "metadata": {},
   "source": [
    "# Performed my data cleaning separately.\n",
    "\n",
    "I have done the cleaning to the NARRATIVE column on both my train and test datasets and saved the train_x, train_y, test_x, test_y and testd datasets.\n",
    "And uploaded them directly here below from my computer."
   ]
  },
  {
   "cell_type": "code",
   "execution_count": 98,
   "metadata": {},
   "outputs": [],
   "source": [
    "X_train.to_csv('/Users/mrudulareddy/Desktop/submissionR/X_trai.csv', index=False, header=True)\n",
    "X_test.to_csv('/Users/mrudulareddy/Desktop/submissionR/X_tes.csv', index=False, header=True)\n",
    "y_train.to_csv('/Users/mrudulareddy/Desktop/submissionR/y_trai.csv', index=False, header=True)\n",
    "y_test.to_csv('/Users/mrudulareddy/Desktop/submissionR/y_tes.csv', index=False, header=True)"
   ]
  },
  {
   "cell_type": "code",
   "execution_count": 99,
   "metadata": {},
   "outputs": [],
   "source": [
    "X_train = pd.read_csv('/Users/mrudulareddy/Desktop/submissionR/X_trai.csv')\n",
    "X_test = pd.read_csv('/Users/mrudulareddy/Desktop/submissionR/X_tes.csv')\n",
    "y_train = pd.read_csv('/Users/mrudulareddy/Desktop/submissionR/y_trai.csv')\n",
    "y_test = pd.read_csv('/Users/mrudulareddy/Desktop/submissionR/y_tes.csv')\n"
   ]
  },
  {
   "cell_type": "code",
   "execution_count": 100,
   "metadata": {},
   "outputs": [
    {
     "data": {
      "text/html": [
       "<div>\n",
       "<style scoped>\n",
       "    .dataframe tbody tr th:only-of-type {\n",
       "        vertical-align: middle;\n",
       "    }\n",
       "\n",
       "    .dataframe tbody tr th {\n",
       "        vertical-align: top;\n",
       "    }\n",
       "\n",
       "    .dataframe thead th {\n",
       "        text-align: right;\n",
       "    }\n",
       "</style>\n",
       "<table border=\"1\" class=\"dataframe\">\n",
       "  <thead>\n",
       "    <tr style=\"text-align: right;\">\n",
       "      <th></th>\n",
       "      <th>clean_text</th>\n",
       "    </tr>\n",
       "  </thead>\n",
       "  <tbody>\n",
       "    <tr>\n",
       "      <th>0</th>\n",
       "      <td>['unk', 'susp', 'smashed', 'vic', 'front', 'dr...</td>\n",
       "    </tr>\n",
       "    <tr>\n",
       "      <th>1</th>\n",
       "      <td>['unk', 'susps', 'used', 'unk', 'object', 'pry...</td>\n",
       "    </tr>\n",
       "    <tr>\n",
       "      <th>2</th>\n",
       "      <td>['nan']</td>\n",
       "    </tr>\n",
       "    <tr>\n",
       "      <th>3</th>\n",
       "      <td>['unk', 'susp', 'smashed', 'victs', 'veh', 'wi...</td>\n",
       "    </tr>\n",
       "    <tr>\n",
       "      <th>4</th>\n",
       "      <td>['unk', 'susp', 'cut', 'vic', 'door', 'screw',...</td>\n",
       "    </tr>\n",
       "  </tbody>\n",
       "</table>\n",
       "</div>"
      ],
      "text/plain": [
       "                                          clean_text\n",
       "0  ['unk', 'susp', 'smashed', 'vic', 'front', 'dr...\n",
       "1  ['unk', 'susps', 'used', 'unk', 'object', 'pry...\n",
       "2                                            ['nan']\n",
       "3  ['unk', 'susp', 'smashed', 'victs', 'veh', 'wi...\n",
       "4  ['unk', 'susp', 'cut', 'vic', 'door', 'screw',..."
      ]
     },
     "execution_count": 100,
     "metadata": {},
     "output_type": "execute_result"
    }
   ],
   "source": [
    "testd.head()"
   ]
  },
  {
   "cell_type": "markdown",
   "metadata": {},
   "source": [
    "### Prep Data"
   ]
  },
  {
   "cell_type": "code",
   "execution_count": 101,
   "metadata": {},
   "outputs": [
    {
     "data": {
      "text/html": [
       "<div>\n",
       "<style scoped>\n",
       "    .dataframe tbody tr th:only-of-type {\n",
       "        vertical-align: middle;\n",
       "    }\n",
       "\n",
       "    .dataframe tbody tr th {\n",
       "        vertical-align: top;\n",
       "    }\n",
       "\n",
       "    .dataframe thead th {\n",
       "        text-align: right;\n",
       "    }\n",
       "</style>\n",
       "<table border=\"1\" class=\"dataframe\">\n",
       "  <thead>\n",
       "    <tr style=\"text-align: right;\">\n",
       "      <th></th>\n",
       "      <th>id</th>\n",
       "      <th>NARRATIVE</th>\n",
       "      <th>clean_text</th>\n",
       "    </tr>\n",
       "  </thead>\n",
       "  <tbody>\n",
       "    <tr>\n",
       "      <th>0</th>\n",
       "      <td>183896</td>\n",
       "      <td>UNK SUSPS PRYED OFF SECURITY BARS FROM FT UPPE...</td>\n",
       "      <td>['unk', 'susps', 'pryed', 'security', 'bars', ...</td>\n",
       "    </tr>\n",
       "    <tr>\n",
       "      <th>1</th>\n",
       "      <td>2478</td>\n",
       "      <td>UNK SUSP RMVD FOG LIGHTS FROM VICTS VEH AND FL...</td>\n",
       "      <td>['unk', 'susp', 'rmvd', 'fog', 'lights', 'vict...</td>\n",
       "    </tr>\n",
       "    <tr>\n",
       "      <th>2</th>\n",
       "      <td>12332</td>\n",
       "      <td>NaN</td>\n",
       "      <td>['nan']</td>\n",
       "    </tr>\n",
       "    <tr>\n",
       "      <th>3</th>\n",
       "      <td>145123</td>\n",
       "      <td>UNK S GAINED ENTRY INTO V VEH THRU PASS FRONT...</td>\n",
       "      <td>['', 'unk', 'gained', 'entry', 'v', 'veh', 'th...</td>\n",
       "    </tr>\n",
       "    <tr>\n",
       "      <th>4</th>\n",
       "      <td>84919</td>\n",
       "      <td>UNK S USED UNK HARD OBJECT TO SMASH VICTS VEH ...</td>\n",
       "      <td>['unk', 'used', 'unk', 'hard', 'object', 'smas...</td>\n",
       "    </tr>\n",
       "  </tbody>\n",
       "</table>\n",
       "</div>"
      ],
      "text/plain": [
       "       id                                          NARRATIVE  \\\n",
       "0  183896  UNK SUSPS PRYED OFF SECURITY BARS FROM FT UPPE...   \n",
       "1    2478  UNK SUSP RMVD FOG LIGHTS FROM VICTS VEH AND FL...   \n",
       "2   12332                                                NaN   \n",
       "3  145123   UNK S GAINED ENTRY INTO V VEH THRU PASS FRONT...   \n",
       "4   84919  UNK S USED UNK HARD OBJECT TO SMASH VICTS VEH ...   \n",
       "\n",
       "                                          clean_text  \n",
       "0  ['unk', 'susps', 'pryed', 'security', 'bars', ...  \n",
       "1  ['unk', 'susp', 'rmvd', 'fog', 'lights', 'vict...  \n",
       "2                                            ['nan']  \n",
       "3  ['', 'unk', 'gained', 'entry', 'v', 'veh', 'th...  \n",
       "4  ['unk', 'used', 'unk', 'hard', 'object', 'smas...  "
      ]
     },
     "execution_count": 101,
     "metadata": {},
     "output_type": "execute_result"
    }
   ],
   "source": [
    "X_train.head()"
   ]
  },
  {
   "cell_type": "code",
   "execution_count": 102,
   "metadata": {},
   "outputs": [
    {
     "data": {
      "text/html": [
       "<div>\n",
       "<style scoped>\n",
       "    .dataframe tbody tr th:only-of-type {\n",
       "        vertical-align: middle;\n",
       "    }\n",
       "\n",
       "    .dataframe tbody tr th {\n",
       "        vertical-align: top;\n",
       "    }\n",
       "\n",
       "    .dataframe thead th {\n",
       "        text-align: right;\n",
       "    }\n",
       "</style>\n",
       "<table border=\"1\" class=\"dataframe\">\n",
       "  <thead>\n",
       "    <tr style=\"text-align: right;\">\n",
       "      <th></th>\n",
       "      <th>clean_text</th>\n",
       "    </tr>\n",
       "  </thead>\n",
       "  <tbody>\n",
       "    <tr>\n",
       "      <th>0</th>\n",
       "      <td>['unk', 'susp', 'smashed', 'vic', 'front', 'dr...</td>\n",
       "    </tr>\n",
       "    <tr>\n",
       "      <th>1</th>\n",
       "      <td>['unk', 'susps', 'used', 'unk', 'object', 'pry...</td>\n",
       "    </tr>\n",
       "    <tr>\n",
       "      <th>2</th>\n",
       "      <td>['nan']</td>\n",
       "    </tr>\n",
       "    <tr>\n",
       "      <th>3</th>\n",
       "      <td>['unk', 'susp', 'smashed', 'victs', 'veh', 'wi...</td>\n",
       "    </tr>\n",
       "    <tr>\n",
       "      <th>4</th>\n",
       "      <td>['unk', 'susp', 'cut', 'vic', 'door', 'screw',...</td>\n",
       "    </tr>\n",
       "  </tbody>\n",
       "</table>\n",
       "</div>"
      ],
      "text/plain": [
       "                                          clean_text\n",
       "0  ['unk', 'susp', 'smashed', 'vic', 'front', 'dr...\n",
       "1  ['unk', 'susps', 'used', 'unk', 'object', 'pry...\n",
       "2                                            ['nan']\n",
       "3  ['unk', 'susp', 'smashed', 'victs', 'veh', 'wi...\n",
       "4  ['unk', 'susp', 'cut', 'vic', 'door', 'screw',..."
      ]
     },
     "execution_count": 102,
     "metadata": {},
     "output_type": "execute_result"
    }
   ],
   "source": [
    "testd.head()"
   ]
  },
  {
   "cell_type": "code",
   "execution_count": 103,
   "metadata": {},
   "outputs": [],
   "source": [
    "# Train the tokenizer and use that tokenizer to convert the sentences to sequences of numbers\n",
    "tokenizer = Tokenizer()\n",
    "tokenizer.fit_on_texts(X_train['clean_text'])\n",
    "X_train_seq = tokenizer.texts_to_sequences(X_train['clean_text'])\n",
    "X_test_seq = tokenizer.texts_to_sequences(X_test['clean_text'])\n",
    "test_seq = tokenizer.texts_to_sequences(testd['clean_text'])\n",
    "test_seq_padded = pad_sequences(test_seq, 50)\n",
    "# Pad the sequences so each sequence is the same length\n",
    "X_train_seq_padded = pad_sequences(X_train_seq, 50)\n",
    "X_test_seq_padded = pad_sequences(X_test_seq, 50)"
   ]
  },
  {
   "cell_type": "code",
   "execution_count": null,
   "metadata": {},
   "outputs": [],
   "source": []
  },
  {
   "cell_type": "code",
   "execution_count": 104,
   "metadata": {},
   "outputs": [],
   "source": []
  },
  {
   "cell_type": "code",
   "execution_count": 105,
   "metadata": {},
   "outputs": [],
   "source": []
  },
  {
   "cell_type": "markdown",
   "metadata": {},
   "source": [
    "### Build And Evaluate RNN"
   ]
  },
  {
   "cell_type": "code",
   "execution_count": 106,
   "metadata": {},
   "outputs": [],
   "source": [
    "# Import the tools needed and use our previously defined functions to calculate precision and recall\n",
    "import keras.backend as K\n",
    "from keras.layers import Dense, Embedding, LSTM\n",
    "from keras.models import Sequential\n",
    "\n",
    "def recall_m(y_true, y_pred):\n",
    "        true_positives = K.sum(K.round(K.clip(y_true * y_pred, 0, 1)))\n",
    "        possible_positives = K.sum(K.round(K.clip(y_true, 0, 1)))\n",
    "        recall = true_positives / (possible_positives + K.epsilon())\n",
    "        return recall\n",
    "\n",
    "def precision_m(y_true, y_pred):\n",
    "        true_positives = K.sum(K.round(K.clip(y_true * y_pred, 0, 1)))\n",
    "        predicted_positives = K.sum(K.round(K.clip(y_pred, 0, 1)))\n",
    "        precision = true_positives / (predicted_positives + K.epsilon())\n",
    "        return precision\n",
    "    \n",
    "# Construct our basic RNN model framework\n",
    "model = Sequential()\n",
    "\n",
    "model.add(Embedding(len(tokenizer.index_word)+1, 32))\n",
    "model.add(LSTM(32, dropout=0, recurrent_dropout=0))\n",
    "model.add(Dense(32, activation='relu'))\n",
    "model.add(Dense(1, activation='sigmoid'))\n",
    "model.summary()\n",
    "# Compile the model\n",
    "model.compile(optimizer='adam',\n",
    "              loss='binary_crossentropy',\n",
    "              metrics=['accuracy', precision_m, recall_m])\n",
    "# Fit the RNN\n",
    "history = model.fit(X_train_seq_padded, y_train['CRIMETYPE'], \n",
    "                    batch_size=32, epochs=2,\n",
    "                    validation_data=(X_test_seq_padded, y_test))\n",
    "test_acc = model.evaluate(X_test_seq_padded)"
   ]
  },
  {
   "cell_type": "code",
   "execution_count": 107,
   "metadata": {},
   "outputs": [
    {
     "name": "stdout",
     "output_type": "stream",
     "text": [
      "Model: \"sequential_3\"\n",
      "_________________________________________________________________\n",
      " Layer (type)                Output Shape              Param #   \n",
      "=================================================================\n",
      " embedding_3 (Embedding)     (None, None, 32)          695744    \n",
      "                                                                 \n",
      " lstm_3 (LSTM)               (None, 32)                8320      \n",
      "                                                                 \n",
      " dense_6 (Dense)             (None, 32)                1056      \n",
      "                                                                 \n",
      " dense_7 (Dense)             (None, 1)                 33        \n",
      "                                                                 \n",
      "=================================================================\n",
      "Total params: 705,153\n",
      "Trainable params: 705,153\n",
      "Non-trainable params: 0\n",
      "_________________________________________________________________\n"
     ]
    }
   ],
   "source": []
  },
  {
   "cell_type": "code",
   "execution_count": 108,
   "metadata": {},
   "outputs": [],
   "source": []
  },
  {
   "cell_type": "code",
   "execution_count": 110,
   "metadata": {},
   "outputs": [
    {
     "name": "stdout",
     "output_type": "stream",
     "text": [
      "Epoch 1/2\n",
      "3125/3125 [==============================] - 48s 15ms/step - loss: 0.0049 - accuracy: 0.9998 - precision_m: 0.0000e+00 - recall_m: 0.0000e+00 - val_loss: 3.4963e-06 - val_accuracy: 1.0000 - val_precision_m: 0.0000e+00 - val_recall_m: 0.0000e+00\n",
      "Epoch 2/2\n",
      "3125/3125 [==============================] - 46s 15ms/step - loss: 1.3986e-06 - accuracy: 1.0000 - precision_m: 0.0000e+00 - recall_m: 0.0000e+00 - val_loss: 4.3321e-07 - val_accuracy: 1.0000 - val_precision_m: 0.0000e+00 - val_recall_m: 0.0000e+00\n"
     ]
    }
   ],
   "source": []
  },
  {
   "cell_type": "code",
   "execution_count": null,
   "metadata": {},
   "outputs": [],
   "source": [
    "predictions = model.predict(np.array([sample_text]))"
   ]
  },
  {
   "cell_type": "code",
   "execution_count": 113,
   "metadata": {},
   "outputs": [
    {
     "name": "stdout",
     "output_type": "stream",
     "text": [
      "3125/3125 [==============================] - 3s 857us/step - loss: 0.0000e+00 - accuracy: 0.0000e+00 - precision_m: 0.0000e+00 - recall_m: 0.0000e+00\n"
     ]
    }
   ],
   "source": []
  },
  {
   "cell_type": "code",
   "execution_count": null,
   "metadata": {},
   "outputs": [],
   "source": []
  },
  {
   "cell_type": "code",
   "execution_count": null,
   "metadata": {},
   "outputs": [],
   "source": []
  },
  {
   "cell_type": "code",
   "execution_count": null,
   "metadata": {},
   "outputs": [],
   "source": []
  }
 ],
 "metadata": {
  "kernelspec": {
   "display_name": "Python 3",
   "language": "python",
   "name": "python3"
  },
  "language_info": {
   "codemirror_mode": {
    "name": "ipython",
    "version": 3
   },
   "file_extension": ".py",
   "mimetype": "text/x-python",
   "name": "python",
   "nbconvert_exporter": "python",
   "pygments_lexer": "ipython3",
   "version": "3.8.5"
  }
 },
 "nbformat": 4,
 "nbformat_minor": 2
}
