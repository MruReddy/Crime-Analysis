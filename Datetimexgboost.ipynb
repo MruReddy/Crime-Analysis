{
 "cells": [
  {
   "cell_type": "code",
   "execution_count": null,
   "metadata": {},
   "outputs": [],
   "source": [
    "%matplotlib inline\n",
    "import numpy as np \n",
    "import pandas as pd "
   ]
  },
  {
   "cell_type": "code",
   "execution_count": 12,
   "metadata": {},
   "outputs": [],
   "source": [
    "train_df = pd.read_csv('train 2.csv', encoding='latin-1', usecols= ['id', 'CRIMETYPE', 'BEGDATE'])\n",
    "test_df = pd.read_csv('test 3.csv', encoding='latin-1', usecols= ['id', 'BEGDATE'])\n",
    "train_df['Date'] = pd.to_datetime(train_df.BEGDATE)\n",
    "test_df['Date'] = pd.to_datetime(test_df.BEGDATE)\n",
    "\n",
    "train_df = train_df.drop('BEGDATE', axis=1)\n",
    "test_df = test_df.drop('BEGDATE', axis=1)\n",
    "\n",
    "\n",
    "train_df['IsDay'] = 0\n",
    "train_df.loc[ (train_df.Date.dt.hour > 6) & (train_df.Date.dt.hour < 20), 'IsDay' ] = 1\n",
    "test_df['IsDay'] = 0\n",
    "test_df.loc[ (test_df.Date.dt.hour > 6) & (test_df.Date.dt.hour < 20), 'IsDay' ] = 1\n",
    "\n",
    "\n",
    "train_df['Hour'] = train_df.Date.dt.hour\n",
    "train_df['Month'] = train_df.Date.dt.month\n",
    "train_df['Year'] = train_df.Date.dt.year\n",
    "train_df['Year'] = train_df['Year'] - 2000 # The Algorithm doesn't know the difference. It's just easier to work like that\n",
    "\n",
    "test_df['Hour'] = test_df.Date.dt.hour\n",
    "test_df['Month'] = test_df.Date.dt.month\n",
    "test_df['Year'] = test_df.Date.dt.year\n",
    "test_df['Year'] = test_df['Year'] - 2000 # The Algorithm doesn't know the difference. It's just easier to work like that\n",
    "\n",
    "\n",
    "train_df['HourCos'] = np.cos((train_df['Hour']*2*np.pi)/24 )\n",
    "train_df['MonthCos'] = np.cos((train_df['Month']*2*np.pi)/12 )\n",
    "\n",
    "test_df['HourCos'] = np.cos((test_df['Hour']*2*np.pi)/24 )\n",
    "test_df['MonthCos'] = np.cos((test_df['Month']*2*np.pi)/12 )\n",
    "\n",
    "\n",
    "\n"
   ]
  },
  {
   "cell_type": "code",
   "execution_count": 13,
   "metadata": {},
   "outputs": [
    {
     "data": {
      "text/html": [
       "<div>\n",
       "<style scoped>\n",
       "    .dataframe tbody tr th:only-of-type {\n",
       "        vertical-align: middle;\n",
       "    }\n",
       "\n",
       "    .dataframe tbody tr th {\n",
       "        vertical-align: top;\n",
       "    }\n",
       "\n",
       "    .dataframe thead th {\n",
       "        text-align: right;\n",
       "    }\n",
       "</style>\n",
       "<table border=\"1\" class=\"dataframe\">\n",
       "  <thead>\n",
       "    <tr style=\"text-align: right;\">\n",
       "      <th></th>\n",
       "      <th>id</th>\n",
       "      <th>CRIMETYPE</th>\n",
       "      <th>Date</th>\n",
       "    </tr>\n",
       "  </thead>\n",
       "  <tbody>\n",
       "    <tr>\n",
       "      <th>31525</th>\n",
       "      <td>85708</td>\n",
       "      <td>BTFV</td>\n",
       "      <td>2010-11-10</td>\n",
       "    </tr>\n",
       "  </tbody>\n",
       "</table>\n",
       "</div>"
      ],
      "text/plain": [
       "          id CRIMETYPE       Date\n",
       "31525  85708      BTFV 2010-11-10"
      ]
     },
     "execution_count": 13,
     "metadata": {},
     "output_type": "execute_result"
    }
   ],
   "source": [
    "train_df.sample(1)"
   ]
  },
  {
   "cell_type": "code",
   "execution_count": 14,
   "metadata": {},
   "outputs": [
    {
     "data": {
      "text/plain": [
       "dtype('<M8[ns]')"
      ]
     },
     "execution_count": 14,
     "metadata": {},
     "output_type": "execute_result"
    }
   ],
   "source": [
    "train_df.Date.dtype"
   ]
  },
  {
   "cell_type": "code",
   "execution_count": 15,
   "metadata": {},
   "outputs": [
    {
     "data": {
      "text/html": [
       "<div>\n",
       "<style scoped>\n",
       "    .dataframe tbody tr th:only-of-type {\n",
       "        vertical-align: middle;\n",
       "    }\n",
       "\n",
       "    .dataframe tbody tr th {\n",
       "        vertical-align: top;\n",
       "    }\n",
       "\n",
       "    .dataframe thead th {\n",
       "        text-align: right;\n",
       "    }\n",
       "</style>\n",
       "<table border=\"1\" class=\"dataframe\">\n",
       "  <thead>\n",
       "    <tr style=\"text-align: right;\">\n",
       "      <th></th>\n",
       "      <th>id</th>\n",
       "      <th>CRIMETYPE</th>\n",
       "      <th>Date</th>\n",
       "      <th>IsDay</th>\n",
       "    </tr>\n",
       "  </thead>\n",
       "  <tbody>\n",
       "    <tr>\n",
       "      <th>30609</th>\n",
       "      <td>11762</td>\n",
       "      <td>BURG</td>\n",
       "      <td>2009-03-30</td>\n",
       "      <td>0</td>\n",
       "    </tr>\n",
       "    <tr>\n",
       "      <th>16444</th>\n",
       "      <td>192849</td>\n",
       "      <td>BURG</td>\n",
       "      <td>2013-05-14</td>\n",
       "      <td>0</td>\n",
       "    </tr>\n",
       "    <tr>\n",
       "      <th>67294</th>\n",
       "      <td>226954</td>\n",
       "      <td>BTFV</td>\n",
       "      <td>2014-03-19</td>\n",
       "      <td>0</td>\n",
       "    </tr>\n",
       "  </tbody>\n",
       "</table>\n",
       "</div>"
      ],
      "text/plain": [
       "           id CRIMETYPE       Date  IsDay\n",
       "30609   11762      BURG 2009-03-30      0\n",
       "16444  192849      BURG 2013-05-14      0\n",
       "67294  226954      BTFV 2014-03-19      0"
      ]
     },
     "execution_count": 15,
     "metadata": {},
     "output_type": "execute_result"
    }
   ],
   "source": [
    "train_df.sample(3)"
   ]
  },
  {
   "cell_type": "code",
   "execution_count": 16,
   "metadata": {},
   "outputs": [
    {
     "data": {
      "text/html": [
       "<div>\n",
       "<style scoped>\n",
       "    .dataframe tbody tr th:only-of-type {\n",
       "        vertical-align: middle;\n",
       "    }\n",
       "\n",
       "    .dataframe tbody tr th {\n",
       "        vertical-align: top;\n",
       "    }\n",
       "\n",
       "    .dataframe thead th {\n",
       "        text-align: right;\n",
       "    }\n",
       "</style>\n",
       "<table border=\"1\" class=\"dataframe\">\n",
       "  <thead>\n",
       "    <tr style=\"text-align: right;\">\n",
       "      <th></th>\n",
       "      <th>id</th>\n",
       "      <th>CRIMETYPE</th>\n",
       "      <th>Date</th>\n",
       "      <th>IsDay</th>\n",
       "      <th>Hour</th>\n",
       "      <th>Month</th>\n",
       "      <th>Year</th>\n",
       "    </tr>\n",
       "  </thead>\n",
       "  <tbody>\n",
       "    <tr>\n",
       "      <th>54914</th>\n",
       "      <td>63826</td>\n",
       "      <td>BTFV</td>\n",
       "      <td>2010-05-11</td>\n",
       "      <td>0</td>\n",
       "      <td>0</td>\n",
       "      <td>5</td>\n",
       "      <td>10</td>\n",
       "    </tr>\n",
       "  </tbody>\n",
       "</table>\n",
       "</div>"
      ],
      "text/plain": [
       "          id CRIMETYPE       Date  IsDay  Hour  Month  Year\n",
       "54914  63826      BTFV 2010-05-11      0     0      5    10"
      ]
     },
     "execution_count": 16,
     "metadata": {},
     "output_type": "execute_result"
    }
   ],
   "source": [
    "train_df.sample(1)"
   ]
  },
  {
   "cell_type": "code",
   "execution_count": 17,
   "metadata": {},
   "outputs": [
    {
     "data": {
      "text/html": [
       "<div>\n",
       "<style scoped>\n",
       "    .dataframe tbody tr th:only-of-type {\n",
       "        vertical-align: middle;\n",
       "    }\n",
       "\n",
       "    .dataframe tbody tr th {\n",
       "        vertical-align: top;\n",
       "    }\n",
       "\n",
       "    .dataframe thead th {\n",
       "        text-align: right;\n",
       "    }\n",
       "</style>\n",
       "<table border=\"1\" class=\"dataframe\">\n",
       "  <thead>\n",
       "    <tr style=\"text-align: right;\">\n",
       "      <th></th>\n",
       "      <th>id</th>\n",
       "      <th>CRIMETYPE</th>\n",
       "      <th>Date</th>\n",
       "      <th>IsDay</th>\n",
       "      <th>Hour</th>\n",
       "      <th>Month</th>\n",
       "      <th>Year</th>\n",
       "      <th>HourCos</th>\n",
       "      <th>MonthCos</th>\n",
       "    </tr>\n",
       "  </thead>\n",
       "  <tbody>\n",
       "    <tr>\n",
       "      <th>47245</th>\n",
       "      <td>123403</td>\n",
       "      <td>BURG</td>\n",
       "      <td>2011-09-29</td>\n",
       "      <td>0</td>\n",
       "      <td>0</td>\n",
       "      <td>9</td>\n",
       "      <td>11</td>\n",
       "      <td>1.0</td>\n",
       "      <td>-1.836970e-16</td>\n",
       "    </tr>\n",
       "  </tbody>\n",
       "</table>\n",
       "</div>"
      ],
      "text/plain": [
       "           id CRIMETYPE       Date  IsDay  Hour  Month  Year  HourCos  \\\n",
       "47245  123403      BURG 2011-09-29      0     0      9    11      1.0   \n",
       "\n",
       "           MonthCos  \n",
       "47245 -1.836970e-16  "
      ]
     },
     "execution_count": 17,
     "metadata": {},
     "output_type": "execute_result"
    }
   ],
   "source": [
    "train_df.sample(1)"
   ]
  },
  {
   "cell_type": "code",
   "execution_count": null,
   "metadata": {},
   "outputs": [],
   "source": [
    "\n",
    "feature_cols = ['IsDay', 'Hour', 'Month', 'Year', 'HourCos',\n",
    "       'MonthCos']\n",
    "target_col = 'CRIMETYPE'"
   ]
  },
  {
   "cell_type": "code",
   "execution_count": null,
   "metadata": {},
   "outputs": [],
   "source": []
  },
  {
   "cell_type": "code",
   "execution_count": null,
   "metadata": {},
   "outputs": [],
   "source": []
  },
  {
   "cell_type": "code",
   "execution_count": null,
   "metadata": {},
   "outputs": [],
   "source": []
  },
  {
   "cell_type": "code",
   "execution_count": null,
   "metadata": {},
   "outputs": [],
   "source": []
  },
  {
   "cell_type": "code",
   "execution_count": null,
   "metadata": {},
   "outputs": [],
   "source": []
  },
  {
   "cell_type": "code",
   "execution_count": 23,
   "metadata": {},
   "outputs": [
    {
     "data": {
      "text/plain": [
       "Index(['id', 'Date', 'IsDay', 'Hour', 'Month', 'Year', 'HourCos', 'MonthCos',\n",
       "       'CRIMETYPE'],\n",
       "      dtype='object')"
      ]
     },
     "execution_count": 23,
     "metadata": {},
     "output_type": "execute_result"
    }
   ],
   "source": [
    "test_df.columns"
   ]
  },
  {
   "cell_type": "code",
   "execution_count": 19,
   "metadata": {},
   "outputs": [],
   "source": [
    "train_df['CRIMETYPE'] = np.where(train_df['CRIMETYPE']=='BURG', 1, 0)\n",
    "test_df['CRIMETYPE'] = np.where(train_df['CRIMETYPE']=='BURG', 1, 0)"
   ]
  },
  {
   "cell_type": "code",
   "execution_count": 20,
   "metadata": {},
   "outputs": [
    {
     "data": {
      "text/plain": [
       "Index(['id', 'CRIMETYPE', 'Date', 'IsDay', 'Hour', 'Month', 'Year', 'HourCos',\n",
       "       'MonthCos'],\n",
       "      dtype='object')"
      ]
     },
     "execution_count": 20,
     "metadata": {},
     "output_type": "execute_result"
    }
   ],
   "source": [
    "train_df.columns"
   ]
  },
  {
   "cell_type": "code",
   "execution_count": 30,
   "metadata": {},
   "outputs": [],
   "source": [
    "feature_cols = ['IsDay', 'Hour', 'Month', 'Year', 'HourCos',\n",
    "       'MonthCos']\n",
    "target_col = 'CRIMETYPE'\n",
    "\n",
    "train_x = train_df[feature_cols]\n",
    "train_y = train_df[target_col]\n",
    "\n",
    "test_ids = test_df['id']\n",
    "test_x = test_df[feature_cols]"
   ]
  },
  {
   "cell_type": "code",
   "execution_count": 31,
   "metadata": {},
   "outputs": [
    {
     "data": {
      "text/plain": [
       "(pandas.core.frame.DataFrame, pandas.core.series.Series)"
      ]
     },
     "execution_count": 31,
     "metadata": {},
     "output_type": "execute_result"
    }
   ],
   "source": [
    "type(train_x), type(train_y)"
   ]
  },
  {
   "cell_type": "code",
   "execution_count": 27,
   "metadata": {},
   "outputs": [
    {
     "name": "stdout",
     "output_type": "stream",
     "text": [
      "Collecting xgboost\n",
      "  Downloading xgboost-1.6.0-py3-none-macosx_10_15_x86_64.macosx_11_0_x86_64.macosx_12_0_x86_64.whl (1.7 MB)\n",
      "\u001b[K     |████████████████████████████████| 1.7 MB 1.7 MB/s eta 0:00:01\n",
      "\u001b[?25hRequirement already satisfied: scipy in /Users/mrudulareddy/opt/anaconda3/lib/python3.8/site-packages (from xgboost) (1.5.2)\n",
      "Requirement already satisfied: numpy in /Users/mrudulareddy/opt/anaconda3/lib/python3.8/site-packages (from xgboost) (1.22.3)\n",
      "Installing collected packages: xgboost\n",
      "Successfully installed xgboost-1.6.0\n"
     ]
    }
   ],
   "source": [
    "!pip install xgboost"
   ]
  },
  {
   "cell_type": "code",
   "execution_count": 32,
   "metadata": {},
   "outputs": [],
   "source": [
    "import xgboost as xgb\n",
    "train_xgb = xgb.DMatrix(train_x, label=train_y)\n",
    "test_xgb  = xgb.DMatrix(test_x)"
   ]
  },
  {
   "cell_type": "code",
   "execution_count": 33,
   "metadata": {},
   "outputs": [],
   "source": [
    "\n",
    "params = {\n",
    "    'max_depth': 4,  # the maximum depth of each tree\n",
    "    'eta': 0.3,  # the training step for each iteration\n",
    "    'silent': 1,  # logging mode - quiet\n",
    "    'objective': 'multi:softprob',  # error evaluation for multiclass training\n",
    "    'num_class': 39,\n",
    "}"
   ]
  },
  {
   "cell_type": "code",
   "execution_count": 34,
   "metadata": {},
   "outputs": [],
   "source": [
    "CROSS_VAL = False\n",
    "if CROSS_VAL:\n",
    "    print('Doing Cross-validation ...')\n",
    "    cv = xgb.cv(params, train_xgb, nfold=3, early_stopping_rounds=10, metrics='mlogloss', verbose_eval=True)\n",
    "    cv"
   ]
  },
  {
   "cell_type": "code",
   "execution_count": 37,
   "metadata": {},
   "outputs": [
    {
     "name": "stdout",
     "output_type": "stream",
     "text": [
      "Fitting Model ...\n",
      "[03:24:41] WARNING: /Users/runner/work/xgboost/xgboost/python-package/build/temp.macosx-10.9-x86_64-3.7/xgboost/src/learner.cc:627: \n",
      "Parameters: { \"silent\" } might not be used.\n",
      "\n",
      "  This could be a false alarm, with some parameters getting used by language bindings but\n",
      "  then being mistakenly passed down to XGBoost core, or some parameter actually being used\n",
      "  but getting flagged wrongly here. Please open an issue if you find any such cases.\n",
      "\n",
      "\n",
      "Done Outputing !\n",
      "          id         0         1         2         3         4         5  \\\n",
      "21414  72937  0.578638  0.333257  0.002381  0.002381  0.002381  0.002381   \n",
      "6308   55257  0.592908  0.322611  0.002283  0.002283  0.002283  0.002283   \n",
      "22111  99142  0.593933  0.318374  0.002370  0.002370  0.002370  0.002370   \n",
      "\n",
      "              6         7         8  ...        29        30        31  \\\n",
      "21414  0.002381  0.002381  0.002381  ...  0.002381  0.002381  0.002381   \n",
      "6308   0.002283  0.002283  0.002283  ...  0.002283  0.002283  0.002283   \n",
      "22111  0.002370  0.002370  0.002370  ...  0.002370  0.002370  0.002370   \n",
      "\n",
      "             32        33        34        35        36        37        38  \n",
      "21414  0.002381  0.002381  0.002381  0.002381  0.002381  0.002381  0.002381  \n",
      "6308   0.002283  0.002283  0.002283  0.002283  0.002283  0.002283  0.002283  \n",
      "22111  0.002370  0.002370  0.002370  0.002370  0.002370  0.002370  0.002370  \n",
      "\n",
      "[3 rows x 40 columns]\n"
     ]
    }
   ],
   "source": [
    "SUBMIT = not CROSS_VAL\n",
    "if SUBMIT:\n",
    "    print('Fitting Model ...')\n",
    "    m = xgb.train(params, train_xgb, 10)\n",
    "    res = m.predict(test_xgb)\n",
    "    cols = ['id']\n",
    "    submission = pd.DataFrame(res)\n",
    "    submission.insert(0, 'id', test_ids)\n",
    "    submission.to_csv('submissionvy.csv', index=False)\n",
    "    print('Done Outputing !')\n",
    "    print(submission.sample(3))\n",
    "else:\n",
    "    print('NOT SUBMITING')\n"
   ]
  },
  {
   "cell_type": "code",
   "execution_count": null,
   "metadata": {},
   "outputs": [],
   "source": []
  }
 ],
 "metadata": {
  "kernelspec": {
   "display_name": "Python 3",
   "language": "python",
   "name": "python3"
  },
  "language_info": {
   "codemirror_mode": {
    "name": "ipython",
    "version": 3
   },
   "file_extension": ".py",
   "mimetype": "text/x-python",
   "name": "python",
   "nbconvert_exporter": "python",
   "pygments_lexer": "ipython3",
   "version": "3.8.5"
  }
 },
 "nbformat": 4,
 "nbformat_minor": 4
}
